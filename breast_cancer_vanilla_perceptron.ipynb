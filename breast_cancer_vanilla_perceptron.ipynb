{
 "cells": [
  {
   "cell_type": "code",
   "execution_count": 72,
   "metadata": {},
   "outputs": [],
   "source": [
    "import pandas as pd\n",
    "import numpy as np\n",
    "import matplotlib.pyplot as plt"
   ]
  },
  {
   "cell_type": "code",
   "execution_count": 250,
   "metadata": {},
   "outputs": [
    {
     "data": {
      "text/plain": [
       "(569, 10)"
      ]
     },
     "execution_count": 250,
     "metadata": {},
     "output_type": "execute_result"
    }
   ],
   "source": [
    "data_head = ['Id','Diagnosis']\n",
    "for i in range(30):\n",
    "    data_head.append(i+1)   \n",
    "data = pd.read_csv(\"wdbc.csv\",names = data_head)\n",
    "data.drop(['Id',11,12,13,14,15,16,17,18,19,20,21,22,23,24,25,26,27,28,29,30],axis = 1,inplace = True)\n",
    "data['Diagnosis'] = data['Diagnosis'].map({'M':-1,'B':1})\n",
    "labels = data['Diagnosis']\n",
    "data.drop(['Diagnosis'],axis=1,inplace=True)\n",
    "data = data.to_numpy()\n",
    "labels = labels.to_numpy()\n",
    "data.shape"
   ]
  },
  {
   "cell_type": "code",
   "execution_count": 252,
   "metadata": {},
   "outputs": [],
   "source": [
    "\n",
    "#accuracy function\n",
    "def train_accuracy(w,b):\n",
    "    c = 0\n",
    "    for i in range(len(data)):\n",
    "        y_pred = np.sign(np.dot(w,data[i])+b)\n",
    "        if labels[i] == y_pred:\n",
    "            c = c+1\n",
    "    return (c/(len(data))*100)    \n",
    "\n",
    "#vanilla perceptron\n",
    "def vanilla_perceptron(alpha,epochs):\n",
    "    acc_per_epoch = np.zeros(epochs)\n",
    "    w = np.random.uniform(0,0.5,10)\n",
    "    b = 0\n",
    "    for e in range(epochs):\n",
    "        for j in range(len(data)):\n",
    "            y = int(np.sign(np.dot(w,data[j])+b))\n",
    "            if labels[j] != y:\n",
    "                    w = np.add(w,(alpha*y*data[j])) #updating weights\n",
    "                    b = b + (alpha)*y #bias update\n",
    "            else:\n",
    "                continue\n",
    "        acc_per_epoch[e] = train_accuracy(w,b) #storing accuracy\n",
    "        \n",
    "    return acc_per_epoch\n",
    "    "
   ]
  },
  {
   "cell_type": "code",
   "execution_count": 253,
   "metadata": {},
   "outputs": [
    {
     "data": {
      "text/plain": [
       "[<matplotlib.lines.Line2D at 0x7f05b562fa90>]"
      ]
     },
     "execution_count": 253,
     "metadata": {},
     "output_type": "execute_result"
    },
    {
     "data": {
      "image/png": "[encoded data removed]",
      "text/plain": [
       "<Figure size 432x288 with 1 Axes>"
      ]
     },
     "metadata": {
      "needs_background": "light"
     },
     "output_type": "display_data"
    }
   ],
   "source": [
    "vanilla_acc = vanilla_perceptron(0.5,10)\n",
    "#accuracy not improving with each epoch, data might not be linearly separable\n",
    "plt.plot(np.arange(10),vanilla_acc)"
   ]
  },
  {
   "cell_type": "code",
   "execution_count": 254,
   "metadata": {},
   "outputs": [],
   "source": [
    "#voted perceptron accuracy\n",
    "def voted_accuracy(w_track,b_track):\n",
    "\n",
    "def voted_perceptron(alpha,epochs):\n",
    "    acc_per_epoch = np.zeros(epochs)\n",
    "    w = np.random.uniform(0,0.5,10)\n",
    "    b = 0\n",
    "    w_track = np.zeros(569,10)\n",
    "    b_track = np.zeros(569)\n",
    "    for e in range(epochs):\n",
    "        for j in range(len(data)):\n",
    "            y = int(np.sign(np.dot(w,data[j])+b))\n",
    "            if labels[j] != y:\n",
    "                    w = np.add(w,(alpha*y*data[j])) #updating weights\n",
    "                    b = b + (alpha)*y #bias update\n",
    "                    w_track[j] = w\n",
    "                    b_track[j] = b\n",
    "            else:\n",
    "                continue\n",
    "        acc_per_epoch[e] = train_accuracy(w,b) #storing accuracy\n",
    "        \n",
    "    return acc_per_epoch"
   ]
  }
 ],
 "metadata": {
  "kernelspec": {
   "display_name": "Python 3",
   "language": "python",
   "name": "python3"
  },
  "language_info": {
   "codemirror_mode": {
    "name": "ipython",
    "version": 3
   },
   "file_extension": ".py",
   "mimetype": "text/x-python",
   "name": "python",
   "nbconvert_exporter": "python",
   "pygments_lexer": "ipython3",
   "version": "3.7.6"
  }
 },
 "nbformat": 4,
 "nbformat_minor": 4
}
